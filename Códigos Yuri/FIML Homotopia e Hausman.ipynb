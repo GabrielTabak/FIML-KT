{
 "cells": [
  {
   "cell_type": "code",
   "execution_count": 1,
   "id": "04451550",
   "metadata": {},
   "outputs": [
    {
     "data": {
      "text/plain": [
       "roundp (generic function with 1 method)"
      ]
     },
     "execution_count": 1,
     "metadata": {},
     "output_type": "execute_result"
    }
   ],
   "source": [
    "using LinearAlgebra\n",
    "using Symbolics\n",
    "using MultivariatePolynomials\n",
    "using DynamicPolynomials\n",
    "using HomotopyContinuation\n",
    "using CairoMakie                 # para plots\n",
    "using Distributions\n",
    "using Random\n",
    "\n",
    "# Função que arredonda polinômios\n",
    "\n",
    "function roundp(p)\n",
    "      if p isa AbstractPolynomialLike\n",
    "          cs = coefficients(p)\n",
    "          ms = monomials(p)\n",
    "          return isempty(cs) ? zero(p) : sum(round(c; digits=1) * m for (c, m) in zip(cs, ms))\n",
    "      elseif p isa Number\n",
    "          return round(p; digits=2)\n",
    "      elseif p isa AbstractArray\n",
    "          return map(roundp, p)\n",
    "      else\n",
    "          error(\"Unsupported type in roundp: $(typeof(p))\")\n",
    "      end\n",
    "  end\n",
    "  # ---------"
   ]
  },
  {
   "cell_type": "code",
   "execution_count": 56,
   "id": "9c09e0de",
   "metadata": {},
   "outputs": [],
   "source": [
    "# Parâmetros:\n",
    "\n",
    "n = 3\n",
    "k = 2\n",
    "p = 1\n",
    "q = p + 1\n",
    "\n",
    "m1 = q * q\n",
    "m2 = k * q ;"
   ]
  },
  {
   "cell_type": "code",
   "execution_count": 57,
   "id": "b9297176",
   "metadata": {},
   "outputs": [],
   "source": [
    "gamma_0 = collect(1:p)                     # coluna p×1\n",
    "b_0     = collect(2:(k*p)+1)\n",
    "\n",
    "Gamma_0 = [ 1.0           zeros(1,p) ;     # 1×(1+p)\n",
    "            gamma_0       I(p)      ]       # p×1   p×p  -> (1+p)×(1+p)\n",
    "\n",
    "B_0 = [ zeros(k,1)  reshape(b_0, k, p) ]\n",
    "\n",
    "Σ = Matrix{Float64}(I, q, q)  \n",
    "\n",
    "Random.seed!(123)\n",
    "\n",
    "U_0 = rand( MvNormal(zeros(q) , Σ  ) , n  )'\n",
    "X = rand(n, k)\n",
    "\n",
    "\n",
    "Y = X * B_0 * inv(Gamma_0) + U_0*inv(Gamma_0) ; \n",
    "\n"
   ]
  },
  {
   "cell_type": "code",
   "execution_count": 58,
   "id": "2e59b478",
   "metadata": {},
   "outputs": [
    {
     "data": {
      "text/plain": [
       "4×4 Matrix{Float64}:\n",
       " 1.0  0.0  0.0  0.0\n",
       " 0.0  1.0  0.0  0.0\n",
       " 0.0  0.0  0.0  0.0\n",
       " 0.0  0.0  0.0  0.0"
      ]
     },
     "execution_count": 58,
     "metadata": {},
     "output_type": "execute_result"
    }
   ],
   "source": [
    "# matrizes de restrição\n",
    "\n",
    "R1 = [ ones(1, 1)                 zeros(1, p)                         zeros(1, p*q);\n",
    "       zeros(p, 1)              zeros(p, p)                       zeros(p, p*q);\n",
    "       zeros(p*q, 1)          zeros(p*q, p)                   Matrix( I, p*q, p*q )  ]\n",
    "\n",
    "R2 = [ Matrix(I, k, k)                 zeros(k, k*p);\n",
    "       zeros(k*p, k)               zeros(k*p, k*p)  ]\n"
   ]
  },
  {
   "cell_type": "code",
   "execution_count": 59,
   "id": "62924a9e",
   "metadata": {},
   "outputs": [
    {
     "data": {
      "text/plain": [
       "4×1 Matrix{Term{Float64, DynamicPolynomials.Monomial{DynamicPolynomials.Commutative{DynamicPolynomials.CreationOrder}, Graded{LexOrder}}}}:\n",
       " μ2₁\n",
       " μ2₂\n",
       " 0.0\n",
       " 0.0"
      ]
     },
     "execution_count": 59,
     "metadata": {},
     "output_type": "execute_result"
    }
   ],
   "source": [
    "# Gamma e b\n",
    "\n",
    "@polyvar γ[1:p] b[1:k*p]\n",
    "\n",
    "Γ = [ 1                    zeros(1, p);\n",
    "      γ                    Matrix(I, p, p) ]\n",
    "\n",
    "\n",
    "B = [ zeros(k, 1)   reshape(b, k, p) ]        \n",
    "\n",
    "U = Y * Γ - X * B        # n×p (simbólico)\n",
    "\n",
    "# multiplicadores\n",
    "\n",
    "@polyvar   μ1[ 1: q^2 - p ]   μ2[1:k]\n",
    "\n",
    "lambda1 = [ μ1[1] ; zeros(p,1) ; μ1[2:end]  ]   \n",
    "lambda2 = [  μ2[1:k] ; zeros(k*p , 1) ]   \n",
    "\n",
    "                          "
   ]
  },
  {
   "cell_type": "code",
   "execution_count": 60,
   "id": "8b0a07eb",
   "metadata": {},
   "outputs": [
    {
     "name": "stdout",
     "output_type": "stream",
     "text": [
      "\r\u001b[32mTracking 6561 paths... 100%|████████████████████████████| Time: 0:00:04\u001b[39m\r\n",
      "\u001b[34m                   # paths tracked: 6561\u001b[39m\r\n",
      "\u001b[34m   # non-singular solutions (real): 3 (3)\u001b[39m\r\n",
      "\u001b[34m       # singular endpoints (real): 6 (0)\u001b[39m\r\n",
      "\u001b[34m          # total solutions (real): 9 (3)\u001b[39m\n"
     ]
    },
    {
     "data": {
      "text/plain": [
       "3-element Vector{Vector{Float64}}:\n",
       " [1.8627, 2.5588, -2.3057, -1.0, 1.8627, -1.0, -0.1617, -0.2162]\n",
       " [1.3685, 5.8247, -3.6072, -1.0, 1.3685, -1.0, -0.1481, -0.3921]\n",
       " [1.0994, -0.9282, 5.7165, -1.0, 1.0994, -1.0, 0.2251, -0.3737]"
      ]
     },
     "execution_count": 60,
     "metadata": {},
     "output_type": "execute_result"
    }
   ],
   "source": [
    "eqA = reshape(Y' * U, q*q, 1) +  kron(U' * U, Matrix(I, q, q)) * R1 * lambda1\n",
    "\n",
    "eqB = reshape((X' * U)', k*q, 1) + kron(U' * U, Matrix(I, k, k)) * R2 * lambda2\n",
    "\n",
    "# final\n",
    "\n",
    "F = vec( [eqA ; eqB] ) \n",
    "\n",
    "vars = [ γ ; b ; μ1 ; μ2 ]\n",
    "\n",
    "\n",
    "F_sys = System(F; variables=vars)\n",
    "\n",
    "\n",
    "result = solve(F_sys ; start_system = :total_degree)\n",
    "\n",
    "S = [ real.(round.(sol; digits=4)) for sol in solutions(result)  ]\n"
   ]
  },
  {
   "cell_type": "code",
   "execution_count": 33,
   "id": "7b989f0b",
   "metadata": {},
   "outputs": [
    {
     "ename": "LoadError",
     "evalue": "ArgumentError: reducing over an empty collection is not allowed; consider supplying `init` to the reducer",
     "output_type": "error",
     "traceback": [
      "ArgumentError: reducing over an empty collection is not allowed; consider supplying `init` to the reducer",
      "",
      "Stacktrace:",
      "  [1] \u001b[0m\u001b[1m_empty_reduce_error\u001b[22m\u001b[0m\u001b[1m(\u001b[22m\u001b[0m\u001b[1m)\u001b[22m",
      "\u001b[90m    @\u001b[39m \u001b[90mBase\u001b[39m \u001b[90m.\\\u001b[39m\u001b[90m\u001b[4mreduce.jl:319\u001b[24m\u001b[39m",
      "  [2] \u001b[0m\u001b[1mmapreduce_empty\u001b[22m\u001b[0m\u001b[1m(\u001b[22m\u001b[90mf\u001b[39m::\u001b[0mFunction, \u001b[90mop\u001b[39m::\u001b[0mBase.BottomRF\u001b[90m{typeof(Base._rf_findmin)}\u001b[39m, \u001b[90mT\u001b[39m::\u001b[0mType\u001b[0m\u001b[1m)\u001b[22m",
      "\u001b[90m    @\u001b[39m \u001b[90mBase\u001b[39m \u001b[90m.\\\u001b[39m\u001b[90m\u001b[4mreduce.jl:321\u001b[24m\u001b[39m",
      "  [3] \u001b[0m\u001b[1mreduce_empty\u001b[22m\u001b[0m\u001b[1m(\u001b[22m\u001b[90mop\u001b[39m::\u001b[0mBase.MappingRF\u001b[90m{Base.var\"#357#358\"{typeof(identity)}, Base.BottomRF{typeof(Base._rf_findmin)}}\u001b[39m, ::\u001b[0mType\u001b[90m{Pair{Int64, Any}}\u001b[39m\u001b[0m\u001b[1m)\u001b[22m",
      "\u001b[90m    @\u001b[39m \u001b[90mBase\u001b[39m \u001b[90m.\\\u001b[39m\u001b[90m\u001b[4mreduce.jl:358\u001b[24m\u001b[39m",
      "  [4] \u001b[0m\u001b[1mreduce_empty_iter\u001b[22m",
      "\u001b[90m    @\u001b[39m \u001b[90m.\\\u001b[39m\u001b[90m\u001b[4mreduce.jl:381\u001b[24m\u001b[39m\u001b[90m [inlined]\u001b[39m",
      "  [5] \u001b[0m\u001b[1mreduce_empty_iter\u001b[22m",
      "\u001b[90m    @\u001b[39m \u001b[90m.\\\u001b[39m\u001b[90m\u001b[4mreduce.jl:380\u001b[24m\u001b[39m\u001b[90m [inlined]\u001b[39m",
      "  [6] \u001b[0m\u001b[1mfoldl_impl\u001b[22m",
      "\u001b[90m    @\u001b[39m \u001b[90m.\\\u001b[39m\u001b[90m\u001b[4mreduce.jl:49\u001b[24m\u001b[39m\u001b[90m [inlined]\u001b[39m",
      "  [7] \u001b[0m\u001b[1mmapfoldl_impl\u001b[22m",
      "\u001b[90m    @\u001b[39m \u001b[90m.\\\u001b[39m\u001b[90m\u001b[4mreduce.jl:44\u001b[24m\u001b[39m\u001b[90m [inlined]\u001b[39m",
      "  [8] \u001b[0m\u001b[1mmapfoldl\u001b[22m",
      "\u001b[90m    @\u001b[39m \u001b[90m.\\\u001b[39m\u001b[90m\u001b[4mreduce.jl:175\u001b[24m\u001b[39m\u001b[90m [inlined]\u001b[39m",
      "  [9] \u001b[0m\u001b[1m_findmin\u001b[22m",
      "\u001b[90m    @\u001b[39m \u001b[90m.\\\u001b[39m\u001b[90m\u001b[4mreduce.jl:972\u001b[24m\u001b[39m\u001b[90m [inlined]\u001b[39m",
      " [10] \u001b[0m\u001b[1mfindmin\u001b[22m",
      "\u001b[90m    @\u001b[39m \u001b[90m.\\\u001b[39m\u001b[90m\u001b[4mreducedim.jl:1125\u001b[24m\u001b[39m\u001b[90m [inlined]\u001b[39m",
      " [11] \u001b[0m\u001b[1m_findmin\u001b[22m",
      "\u001b[90m    @\u001b[39m \u001b[90m.\\\u001b[39m\u001b[90m\u001b[4mreduce.jl:1001\u001b[24m\u001b[39m\u001b[90m [inlined]\u001b[39m",
      " [12] \u001b[0m\u001b[1mfindmin\u001b[22m",
      "\u001b[90m    @\u001b[39m \u001b[90m.\\\u001b[39m\u001b[90m\u001b[4mreducedim.jl:1102\u001b[24m\u001b[39m\u001b[90m [inlined]\u001b[39m",
      " [13] \u001b[0m\u001b[1margmin\u001b[22m\u001b[0m\u001b[1m(\u001b[22m\u001b[90mA\u001b[39m::\u001b[0mVector\u001b[90m{Any}\u001b[39m\u001b[0m\u001b[1m)\u001b[22m",
      "\u001b[90m    @\u001b[39m \u001b[90mBase\u001b[39m \u001b[90m.\\\u001b[39m\u001b[90m\u001b[4mreducedim.jl:1249\u001b[24m\u001b[39m",
      " [14] top-level scope",
      "\u001b[90m    @\u001b[39m \u001b[90m\u001b[4mIn[33]:15\u001b[24m\u001b[39m"
     ]
    }
   ],
   "source": [
    "function Q(x)\n",
    "   \n",
    "    Gamma = [ 1 0 ;\n",
    "              x[1] 1]\n",
    "    \n",
    "    B = [ 0 x[2] ]   \n",
    "\n",
    "    \n",
    "    U = Y*Gamma - X*B\n",
    "\n",
    "    return  det(U'U)\n",
    "end  \n",
    "\n",
    "\n",
    "opt =   S[ argmin( [ Q(x) for x in S ]   ) ][1:2]   "
   ]
  },
  {
   "cell_type": "markdown",
   "id": "735496e8",
   "metadata": {},
   "source": [
    "# Hausman"
   ]
  },
  {
   "cell_type": "code",
   "execution_count": 61,
   "id": "ee8641d3",
   "metadata": {},
   "outputs": [
    {
     "data": {
      "text/plain": [
       "6×3 Matrix{Float64}:\n",
       " -0.391902  0.0       0.0\n",
       "  3.23003   0.0       0.0\n",
       "  4.65079   0.0       0.0\n",
       "  0.0       0.044818  0.327238\n",
       "  0.0       0.933353  0.526996\n",
       "  0.0       0.58056   0.836229"
      ]
     },
     "execution_count": 61,
     "metadata": {},
     "output_type": "execute_result"
    }
   ],
   "source": [
    "# Parâmetros:\n",
    "\n",
    "n = 3\n",
    "k = 2\n",
    "p = 1\n",
    "q = p + 1\n",
    "\n",
    "m1 = q * q\n",
    "m2 = k * q ;\n",
    "\n",
    "gamma_0 = collect(1:p)                     # coluna p×1\n",
    "b_0     = collect(2:(k*p)+1)\n",
    "\n",
    "Gamma_0 = [ 1.0           zeros(1,p) ;     # 1×(1+p)\n",
    "            gamma_0       I(p)      ]       # p×1   p×p  -> (1+p)×(1+p)\n",
    "\n",
    "B_0 = [ zeros(k,1)  reshape(b_0, k, p) ]\n",
    "\n",
    "Σ = Matrix{Float64}(I, q, q)  \n",
    "\n",
    "Random.seed!(123)\n",
    "\n",
    "U_0 = rand( MvNormal(zeros(q) , Σ  ) , n  )'\n",
    "X = rand(n, k)\n",
    "\n",
    "\n",
    "Y = X * B_0 * inv(Gamma_0) + U_0*inv(Gamma_0) ; \n",
    "\n",
    "\n",
    "\n",
    "W = [  Y[:, 2:q]           zeros(n , p*k) ;\n",
    "       zeros(n*p , p )     kron(Matrix(I, p, p) , X  )        ]\n",
    "\n"
   ]
  },
  {
   "cell_type": "code",
   "execution_count": 62,
   "id": "2b5765e7",
   "metadata": {},
   "outputs": [
    {
     "data": {
      "text/plain": [
       "3-element Vector{Float64}:\n",
       " -1.1613548822916075\n",
       "  3.284599189581961\n",
       "  1.9209184095906942"
      ]
     },
     "execution_count": 62,
     "metadata": {},
     "output_type": "execute_result"
    }
   ],
   "source": [
    "\n",
    "\n",
    "function iter(x)\n",
    "\n",
    "    B2 = reshape(x[p+1:end], k, p)\n",
    "    γ = x[1:p]\n",
    "    \n",
    "    What =  [  -X* B2         zeros(n , p*k) ;\n",
    "             zeros(n*p , p )     kron(Matrix(I, p, p) , X  )        ]\n",
    "\n",
    "    \n",
    "    Γ = [ 1     zeros(1,p) ;\n",
    "          γ  Matrix(I, p, p)    ]\n",
    "    \n",
    "    B = [ zeros(k,1)  B2   ]           \n",
    "     \n",
    "\n",
    "    S = (Y*Γ - X*B )' * (Y*Γ - X*B )\n",
    "\n",
    "    G = What' * kron( inv(S)   , Matrix(I, n, n)  )\n",
    "\n",
    "    return  inv(G * W ) * G * vec(Y)\n",
    "end\n",
    "\n",
    "iter([i for i in 1:p + k*p])"
   ]
  },
  {
   "cell_type": "code",
   "execution_count": 66,
   "id": "7265693c",
   "metadata": {},
   "outputs": [
    {
     "name": "stdout",
     "output_type": "stream",
     "text": [
      "Convergiu em 6 iterações\n"
     ]
    },
    {
     "data": {
      "text/plain": [
       "([1.164535836487564], [2.258872534601309; 2.9784848945917552;;])"
      ]
     },
     "execution_count": 66,
     "metadata": {},
     "output_type": "execute_result"
    }
   ],
   "source": [
    "# parâmetros da iteração\n",
    "tol   = 1e-6\n",
    "maxit = 1000\n",
    "\n",
    "# chute inicial (ex.: p = k = 2  →  6 números)\n",
    "x = [i for i in 1:(p + k*p)]\n",
    "hausman   = nothing\n",
    "convergiu = false\n",
    "\n",
    "for it in 1:maxit\n",
    "    y = iter(x)                                # próximo vetor\n",
    "\n",
    "    if maximum(abs.(y .- x)) < tol             # critério de parada\n",
    "        g2 = y[1:p]\n",
    "        B2 = reshape(y[p+1:end], k, p)\n",
    "\n",
    "        hausman = (-g2, B2)                    # salva: (−γ, B₂)\n",
    "        convergiu = true\n",
    "        println(\"Convergiu em $it iterações\")\n",
    "        break\n",
    "    end\n",
    "    x = y\n",
    "end\n",
    "\n",
    "if convergiu\n",
    "else\n",
    "    println(\"NÃO convergiu em $maxit iterações.\")\n",
    "end\n",
    "\n",
    "\n",
    "hausman\n"
   ]
  }
 ],
 "metadata": {
  "kernelspec": {
   "display_name": "Julia 1.11.6",
   "language": "julia",
   "name": "julia-1.11"
  },
  "language_info": {
   "file_extension": ".jl",
   "mimetype": "application/julia",
   "name": "julia",
   "version": "1.11.6"
  }
 },
 "nbformat": 4,
 "nbformat_minor": 5
}
