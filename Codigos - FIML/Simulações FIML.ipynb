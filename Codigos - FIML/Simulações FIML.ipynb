{
 "cells": [
  {
   "cell_type": "markdown",
   "id": "a75434f1",
   "metadata": {},
   "source": [
    "# FIML\n",
    "\n",
    "Aqui vou fazer o sistema polinomial sem considerar essa restrição do det(Gamma) = 1. Mas para as restrições vou usar o caso em que apenas algumas variáveis são usadas em cada caso.\n",
    "\n",
    "Garantindo um sistema identificável, preciso de $g^2$ restrições. Então, vou fazer com que em cada equação o Y referente a ela seja coeficiente 1 (para ficar comparável com LIML), e selecionar aleatoriamente $g^2-g$ restrições para zerar (seja em B ou em Gamma).\n",
    "\n",
    "\n",
    "$$ Y_{n x g} \\Gamma_{g x g} = X_{n x k}B_{k x g} + U_{n x g} $$\n",
    "\n",
    "\n",
    "Vamos considerar o problema do FIML primeiro para o caso homoskedastic. Assumimos que:  $U \\sim N(0, \\Sigma_{g x g} \\otimes I_n)$. E vamos minimizar para o caso reduzido:\n",
    "\n",
    "$$ Y = X B \\Gamma^{-1} + U \\Gamma^{-1}$$\n",
    "\n",
    "A likelihood concentrada em $\\Omega = B'^{-1} \\Sigma B^{-1}$.\n",
    "\n",
    "Ficaria um problema de $\\min log |V'V|$. \n",
    "\n",
    "\n",
    "Sabemos que temos restrições, então ficamos com lagrangeano:\n",
    "\n",
    "$$ log|V'V| - \\lambda_1' (r_1 - R_1' vec(B)) - \\lambda_2' (r_2 - R_2' vec(\\Gamma)) $$\n",
    "\n",
    "\n",
    "## (I)\n",
    "\n",
    "Sistema polinomial final:\n",
    "\n",
    "$$ vec(X'V) - ((V'V)\\Gamma \\otimes I_k)R_1\\lambda_1 = 0 $$\n",
    "$$ (I_g \\otimes B'X')vec(V) - ((V'V) \\otimes I_g)R_2 \\lambda_2 = 0 $$\n",
    "$$ R_1' vec(B) = r_1 $$\n",
    "$$ R_2' vec(\\Gamma) = r_2 $$\n",
    "\n",
    "\n"
   ]
  },
  {
   "cell_type": "markdown",
   "id": "1404496f",
   "metadata": {},
   "source": [
    "## (II)\n",
    "Segunda forma que achei, considerando a questão de estar derivando em $\\Gamma^{-1}$:\n",
    "\n",
    "$$ (I_g \\otimes B'X')vec(V) - ((V'V)\\Gamma^{-1} \\otimes \\Gamma'^{-1})R_2 \\lambda_2 = 0 $$\n",
    "$$ vec(X'V) - ((V'V)\\Gamma \\otimes I_k)R_1\\lambda_1 = 0 $$\n",
    "\n",
    "e as restrições. O problema aqui é que dessa forma, derivei em $\\Gamma^{-1}$, então estarei encontrando o resultado para ele. Enquanto, temos um $\\Gamma$ nas equações. Então preciso considerar essa derivada.\n"
   ]
  },
  {
   "cell_type": "markdown",
   "id": "678eabc4",
   "metadata": {},
   "source": [
    "# Método de Hausman\n",
    "\n",
    "\n",
    "Também podemos usar a homotopia com o sistema de primeira ordem que Hausman (1975) encontrou.\n",
    "\n",
    "## (III)\n",
    "\n",
    "$$\n",
    "\\begin{bmatrix}\n",
    "X' \\\\\n",
    "(\\Gamma')^{-1}B'X'\n",
    "\\end{bmatrix}\n",
    "(Y\\Gamma + XB)\\Sigma ^{-1} = 0\n",
    "$$\n",
    "\n",
    "$$ \\Sigma = (Y\\Gamma - XB)'(Y\\Gamma - XB)/n $$\n",
    "\n",
    "\n",
    "\n",
    "## (IV)\n",
    "\n",
    "Também temos a forma iterativa:\n",
    "\n",
    "$$ \\hat{\\delta}_{k+1} = \\left( \\overline{W_k}' X \\right)^{-1} \\overline{W_k}' y $$\n",
    "\n"
   ]
  },
  {
   "cell_type": "markdown",
   "id": "e9ae58f7",
   "metadata": {},
   "source": [
    "***\n",
    "***\n",
    "***\n",
    "\n",
    "# Simulação: gerando os valores\n",
    "\n",
    "Primeiro, especificamos a forma de gerar as matrizes $\\Gamma$ e $B$. Note que ambas as matrizes estão dispostas de acordo com as restrições especificadas. \n",
    "\n",
    "Uma vez gerada as matrizes principais, precisamos também de uma função para encontrar as matrizes de restrição R1 e R2.\n",
    "\n",
    "Colocamos uma matriz para checar qual a melhor solução entre as possíveis encontradas.\n",
    "\n",
    "Em seguida, fazemos a geração aleatoria dos dados, considerando a seed 123."
   ]
  },
  {
   "cell_type": "code",
   "execution_count": 1,
   "id": "15135af0",
   "metadata": {},
   "outputs": [
    {
     "data": {
      "text/plain": [
       "VpV (generic function with 1 method)"
      ]
     },
     "execution_count": 1,
     "metadata": {},
     "output_type": "execute_result"
    }
   ],
   "source": [
    "function generate_B(k::Int, g::Int, r::Int; rng=Random.GLOBAL_RNG)\n",
    "    M = zeros(Float64, k, g)\n",
    "    \n",
    "    # Passo 1: pelo menos um não-zero em cada linha\n",
    "    for i in 1:k\n",
    "        j = rand(rng, 1:g)\n",
    "        val = 0\n",
    "        while val == 0\n",
    "            val = rand(rng, -10:10)   # inteiro aleatório diferente de zero\n",
    "        end\n",
    "        M[i, j] = val\n",
    "    end\n",
    "\n",
    "    # Passo 2: máximo de não-zeros permitido\n",
    "    max_nonzeros = k*g - r\n",
    "    current_nonzeros = count(!iszero, M)\n",
    "    remaining = max_nonzeros - current_nonzeros\n",
    "\n",
    "    # Passo 3: preencher o resto aleatoriamente\n",
    "    positions = [(i,j) for i in 1:k for j in 1:g if M[i,j] == 0]\n",
    "    shuffle!(positions)\n",
    "\n",
    "    for (i,j) in Iterators.take(positions, remaining)\n",
    "        val = 0\n",
    "        while val == 0\n",
    "            val = rand(rng, -10:10)\n",
    "        end\n",
    "        M[i,j] = val\n",
    "    end\n",
    "    \n",
    "    return M\n",
    "end\n",
    "\n",
    "\n",
    "function generate_Gamma(g::Int, r::Int; rng=Random.GLOBAL_RNG)\n",
    "    M = zeros(Float64, g, g)\n",
    "\n",
    "    # Passo 1: fixa a diagonal em 1\n",
    "    for i in 1:g\n",
    "        M[i,i] = 1.0\n",
    "    end\n",
    "\n",
    "    # Passo 2: máximo de não-zeros permitido\n",
    "    max_nonzeros = g^2 - r\n",
    "    current_nonzeros = count(!iszero, M)\n",
    "    remaining = max_nonzeros - current_nonzeros\n",
    "\n",
    "    # Passo 3: preencher aleatoriamente fora da diagonal\n",
    "    positions = [(i,j) for i in 1:g for j in 1:g if i != j && M[i,j] == 0]\n",
    "    shuffle!(positions)\n",
    "\n",
    "    for (i,j) in Iterators.take(positions, remaining)\n",
    "        val = 0\n",
    "        while val == 0 || val == 1\n",
    "            val = rand(rng, -10:10)   # pode ser qualquer inteiro ≠ 0 e 1\n",
    "        end\n",
    "        M[i,j] = val\n",
    "    end\n",
    "    \n",
    "    return M\n",
    "end\n",
    "\n",
    "\n",
    "function build_R(B::AbstractMatrix, Gamma::AbstractMatrix, g::Integer, k::Integer)\n",
    "    R_1 = zeros(k*g,k*g)\n",
    "    which_ones = findall(x -> x == 0, vec(B))\n",
    "\n",
    "    for i in which_ones\n",
    "        R_1[i,i] = 1\n",
    "    end\n",
    "\n",
    "    R_2 = zeros(g*g,g*g)\n",
    "    which_ones = findall(x -> x == 0 || x == 1, vec(Gamma))\n",
    "\n",
    "    for i in which_ones\n",
    "        R_2[i,i] = 1\n",
    "    end\n",
    "\n",
    "    return R_1, R_2\n",
    "end\n",
    "\n",
    "\n",
    "function VpV(Y, X, Γ, B)\n",
    "    V = Y - X * B * inv(Γ)\n",
    "    return det(V' * V)\n",
    "end\n",
    "\n"
   ]
  },
  {
   "cell_type": "code",
   "execution_count": 2,
   "id": "6101f808",
   "metadata": {},
   "outputs": [
    {
     "data": {
      "text/plain": [
       "2×2 Matrix{Float64}:\n",
       "  1.6795     -0.0515495\n",
       " -0.0515495   0.0425576"
      ]
     },
     "metadata": {},
     "output_type": "display_data"
    }
   ],
   "source": [
    "using LinearAlgebra, Random, Distributions\n",
    "using Symbolics\n",
    "using MultivariatePolynomials\n",
    "using DynamicPolynomials\n",
    "using HomotopyContinuation\n",
    "\n",
    "Random.seed!(123)\n",
    "\n",
    "n = 1000\n",
    "\n",
    "k = 3\n",
    "g = 2\n",
    "\n",
    "\n",
    "# Restrições = g^2 - g\n",
    "# r1 são restrições para B\n",
    "# r2 são restrições para Gamma\n",
    "r1 = 2\n",
    "r2 = 0\n",
    "\n",
    "\n",
    "\n",
    "X = rand(n, k)\n",
    "\n",
    "\n",
    "Sigma = randn(g, g)\n",
    "Sigma = Sigma' * Sigma\n",
    "\n",
    "\n",
    "\n",
    "\n",
    "U = zeros(n,g)\n",
    "\n",
    "d = MvNormal(zeros(g), Sigma)\n",
    "\n",
    "for i in 1:n\n",
    "    x = rand(d)\n",
    "    U[i,:] = x\n",
    "end\n",
    "\n",
    "\n",
    "B = generate_B(k,g,r1)\n",
    "Gamma = generate_Gamma(g, r2)\n",
    "\n",
    "\n",
    "Y = X*B*inv(Gamma) + U*inv(Gamma)\n",
    "\n",
    "\n",
    "R_1, R_2 = build_R(B, Gamma, g, k)\n",
    "\n",
    "display(Sigma)\n"
   ]
  },
  {
   "cell_type": "markdown",
   "id": "dbfd1326",
   "metadata": {},
   "source": [
    "---\n",
    "***\n",
    "___\n",
    "\n",
    "# Formas de resolver\n",
    "\n",
    "## (I)\n"
   ]
  },
  {
   "cell_type": "code",
   "execution_count": 3,
   "id": "460a75a3",
   "metadata": {},
   "outputs": [],
   "source": [
    "q1 = length(findall(x -> x != 0 , vec(B)))\n",
    "q2 = length(findall(x -> x != 0 && x!= 1, vec(Gamma)))\n",
    "\n",
    "@var b[1:q1] gam[1:q2]\n",
    "\n",
    "\n",
    "Beta_est = zeros(Num,k,g)\n",
    "Gamma_est = Matrix{Num}(I, g, g) \n",
    "\n",
    "\n",
    "it = 1\n",
    "\n",
    "for i in 1:k\n",
    "    for j in 1:g\n",
    "        if(B[i,j] != 0)\n",
    "            Beta_est[i,j] = b[it]\n",
    "            it = it + 1\n",
    "        end\n",
    "    end\n",
    "end\n",
    "\n",
    "\n",
    "\n",
    "it = 1\n",
    "for i in 1:g\n",
    "    for j in 1:g\n",
    "        if(Gamma[i,j] != 0 && Gamma[i,j] != 1)\n",
    "            Gamma_est[i,j] = gam[it]\n",
    "            it = it + 1\n",
    "        end\n",
    "    end\n",
    "end\n",
    "\n",
    "\n",
    "\n",
    "\n",
    "q1 = Int(sum(R_1))\n",
    "q2 = Int(sum(R_2))\n",
    "\n",
    "@var lam1[1:q1] lam2[1:q2]\n",
    "\n",
    "\n",
    "lambda1 = zeros(Num,k*g,1)\n",
    "lambda2 = zeros(Num,g*g,1)\n",
    "\n",
    "\n",
    "it = 1\n",
    "\n",
    "for i in 1:(k*g)\n",
    "    if(R_1[i,i] != 0)\n",
    "        lambda1[i] = lam1[it]\n",
    "        it = it + 1\n",
    "    end\n",
    "end\n",
    "\n",
    "\n",
    "it = 1\n",
    "\n",
    "for i in 1:(g*g)\n",
    "    if(R_2[i,i] != 0)\n",
    "        lambda2[i] = lam2[it]\n",
    "        it = it + 1\n",
    "    end\n",
    "end\n",
    "\n",
    "\n",
    "#display(Beta_est)\n",
    "#display(Gamma_est)\n",
    "\n",
    "#display(lambda1)\n",
    "#display(lambda2)\n",
    "\n"
   ]
  },
  {
   "cell_type": "code",
   "execution_count": 4,
   "id": "8a1e8381",
   "metadata": {},
   "outputs": [
    {
     "data": {
      "text/plain": [
       "\"oi\""
      ]
     },
     "metadata": {},
     "output_type": "display_data"
    }
   ],
   "source": [
    "detG = det(Gamma_est)\n",
    "V = (Symbolics.expand.(simplify.(Y*detG - X*Beta_est*detG*inv(Gamma_est))))\n",
    "\n",
    "eqa1 = detG*vec(X'V) - kron((V'V)*Gamma_est,I(k))*lambda1 \n",
    "eqa2 = detG*kron(I(g),Beta_est'*X')*vec(V) - kron((V'V),I(g))*lambda2 \n",
    "\n",
    "eqf_1 = (simplify.(eqa1))\n",
    "eqf_2 = (simplify.(eqa2))\n",
    "\n",
    "\n",
    "F = vec( [eqf_1 ; eqf_2] ) \n",
    "vars = [ gam ; b ; lam1 ; lam2  ]\n",
    "F_sys = System(F; variables=vars)\n",
    "\n",
    "display(\"oi\")"
   ]
  },
  {
   "cell_type": "code",
   "execution_count": 5,
   "id": "de19f920",
   "metadata": {},
   "outputs": [
    {
     "name": "stdout",
     "output_type": "stream",
     "text": [
      "\r",
      "\u001b[32mTracking 933 paths... 100%|█████████████████████████████| Time: 0:00:28\u001b[39m\r\n",
      "\u001b[34m                   # paths tracked: 933\u001b[39m\r\n",
      "\u001b[34m   # non-singular solutions (real): 4 (4)\u001b[39m\r\n",
      "\u001b[34m       # singular endpoints (real): 390 (0)\u001b[39m\r\n",
      "\u001b[34m          # total solutions (real): 394 (4)\u001b[39m\n"
     ]
    },
    {
     "data": {
      "text/plain": [
       "4-element Vector{Vector{Float64}}:\n",
       " [8.0333, -7.9738, -7.0333, -2.8557, 0.9912, 9.0203, 0.0, -0.0, -0.0, -0.0]\n",
       " [-0.0363, 0.1195, 0.0, 0.9543, 1.0799, -0.0, 0.8894, 0.8986, -0.0, -0.0]\n",
       " [-1.6346, -2.0613, 0.0, -1.4658, 0.6733, -1.2172, 0.0, 0.755, -0.0, 0.0]\n",
       " [-2.614, 0.0932, 0.4407, 0.601, -1.0382, 0.0, 0.8903, -0.0, 0.0, 0.0]"
      ]
     },
     "execution_count": 5,
     "metadata": {},
     "output_type": "execute_result"
    }
   ],
   "source": [
    "result = solve(F_sys)\n",
    "\n",
    "#result = solve(F_sys ; start_system = :total_degree)\n",
    "\n",
    "rounded_solutions = [ real.(round.(sol; digits=4)) for sol in solutions(result)  ]"
   ]
  },
  {
   "cell_type": "code",
   "execution_count": 6,
   "id": "4a29e6f1",
   "metadata": {},
   "outputs": [
    {
     "data": {
      "text/plain": [
       "16.24209967432221"
      ]
     },
     "metadata": {},
     "output_type": "display_data"
    },
    {
     "data": {
      "text/plain": [
       "21680.59614175916"
      ]
     },
     "metadata": {},
     "output_type": "display_data"
    },
    {
     "data": {
      "text/plain": [
       "82.96454385266071"
      ]
     },
     "metadata": {},
     "output_type": "display_data"
    },
    {
     "data": {
      "text/plain": [
       "3881.6569388842954"
      ]
     },
     "metadata": {},
     "output_type": "display_data"
    },
    {
     "name": "stdout",
     "output_type": "stream",
     "text": [
      "Mínimo = 16.24209967432221 na posição 1\n",
      "Par ótimo:\n",
      "Γ = [1.0 8.03; -7.97 1.0]\n",
      "Bs = [-7.03 0.0; -2.86 0.99; 0.0 9.02]\n"
     ]
    }
   ],
   "source": [
    "resultados_sol = []\n",
    "for sol in solutions(result) \n",
    "    Aux = real.(round.(sol[1:6]; digits=2))\n",
    "\n",
    "    Γ_eu = [  1      Aux[1];\n",
    "            Aux[2]    1]\n",
    "    \n",
    "    B_eu = [Aux[3]   0;\n",
    "            Aux[4]   Aux[5];\n",
    "            0        Aux[6]]\n",
    "    \n",
    "    val = VpV(Y, X, Γ_eu, B_eu)\n",
    "    push!(resultados_sol, (Γ = Γ_eu, Bs = B_eu, detVpV=val))\n",
    "    display(val)\n",
    "end\n",
    "\n",
    "\n",
    "min_val, pos = findmin(r[:detVpV] for r in resultados_sol)\n",
    "\n",
    "println(\"Mínimo = $min_val na posição $pos\")\n",
    "\n",
    "# agora pega a tupla correspondente\n",
    "Resultado1 = resultados_sol[pos]\n",
    "\n",
    "println(\"Par ótimo:\")\n",
    "println(\"Γ = \", Resultado1.Γ)\n",
    "println(\"Bs = \", Resultado1.Bs)"
   ]
  },
  {
   "cell_type": "markdown",
   "id": "0e9aa03f",
   "metadata": {},
   "source": [
    "# Formas de resolver\n",
    "\n",
    "## (II)"
   ]
  },
  {
   "cell_type": "code",
   "execution_count": 28,
   "id": "67e43dfd",
   "metadata": {},
   "outputs": [],
   "source": [
    "q1 = length(findall(x -> x != 0 , vec(B)))\n",
    "q2 = length(findall(x -> x != 0 && x!= 1, vec(Gamma)))\n",
    "\n",
    "@var b[1:q1] gam[1:q2]\n",
    "\n",
    "\n",
    "Beta_est = zeros(Num,k,g)\n",
    "Gamma_est = Matrix{Num}(I, g, g) \n",
    "\n",
    "\n",
    "it = 1\n",
    "\n",
    "for i in 1:k\n",
    "    for j in 1:g\n",
    "        if(B[i,j] != 0)\n",
    "            Beta_est[i,j] = b[it]\n",
    "            it = it + 1\n",
    "        end\n",
    "    end\n",
    "end\n",
    "\n",
    "\n",
    "\n",
    "it = 1\n",
    "for i in 1:g\n",
    "    for j in 1:g\n",
    "        if(Gamma[i,j] != 0 && Gamma[i,j] != 1)\n",
    "            Gamma_est[i,j] = gam[it]\n",
    "            it = it + 1\n",
    "        end\n",
    "    end\n",
    "end\n",
    "\n",
    "\n",
    "\n",
    "q1 = Int(sum(R_1))\n",
    "q2 = Int(sum(R_2))\n",
    "\n",
    "@var lam1[1:q1] lam2[1:q2]\n",
    "\n",
    "\n",
    "lambda1 = zeros(Num,k*g,1)\n",
    "lambda2 = zeros(Num,g*g,1)\n",
    "\n",
    "\n",
    "it = 1\n",
    "\n",
    "for i in 1:(k*g)\n",
    "    if(R_1[i,i] != 0)\n",
    "        lambda1[i] = lam1[it]\n",
    "        it = it + 1\n",
    "    end\n",
    "end\n",
    "\n",
    "\n",
    "it = 1\n",
    "\n",
    "for i in 1:(g*g)\n",
    "    if(R_2[i,i] != 0)\n",
    "        lambda2[i] = lam2[it]\n",
    "        it = it + 1\n",
    "    end\n",
    "end\n",
    "\n",
    "\n",
    "#display(Beta_est)\n",
    "#display(Gamma_est)\n",
    "\n",
    "#display(lambda1)\n",
    "#display(lambda2)\n",
    "\n"
   ]
  },
  {
   "cell_type": "markdown",
   "id": "fabacff9",
   "metadata": {},
   "source": [
    "$$ (I_g \\otimes B'X')vec(V) - ((V'V)\\Gamma^{-1} \\otimes \\Gamma'^{-1})R_2 \\lambda_2 = 0 $$\n",
    "$$ vec(X'V) - ((V'V)\\Gamma \\otimes I_k)R_1\\lambda_1 = 0 $$"
   ]
  },
  {
   "cell_type": "code",
   "execution_count": 36,
   "id": "1838de5e",
   "metadata": {},
   "outputs": [
    {
     "data": {
      "text/plain": [
       "\"oi\""
      ]
     },
     "metadata": {},
     "output_type": "display_data"
    }
   ],
   "source": [
    "V = (Symbolics.expand.(simplify.(Y - X*Beta_est*(detG*inv(Gamma_est)))))\n",
    "\n",
    "\n",
    "detG = det(Gamma_est)\n",
    "\n",
    "\n",
    "eqa1 = (detG^3)*kron(I(g),Beta_est'*X')*vec(V) - kron( (V'V)*(detG*inv(Gamma_est)) ,(detG*inv(Gamma_est))') * lambda2 \n",
    "\n",
    "eqa2 = detG*vec(X'*V) - kron((V'V)*(Gamma_est),I(k))*lambda1 \n",
    "\n",
    "eqf_1 = (simplify.(eqa1))\n",
    "eqf_2 = (simplify.(eqa2))\n",
    "\n",
    "\n",
    "F = vec( [eqf_1 ; eqf_2] ) \n",
    "vars = [ gam ; b ; lam1 ; lam2  ]\n",
    "F_sys = System(F; variables=vars)\n",
    "\n",
    "display(\"oi\")"
   ]
  },
  {
   "cell_type": "code",
   "execution_count": 37,
   "id": "6d60f067",
   "metadata": {},
   "outputs": [
    {
     "name": "stdout",
     "output_type": "stream",
     "text": [
      "\r",
      "\u001b[32mTracking 1251 paths... 100%|████████████████████████████| Time: 0:00:47\u001b[39m\r\n",
      "\u001b[34m                   # paths tracked: 1251\u001b[39m\r\n",
      "\u001b[34m   # non-singular solutions (real): 18 (10)\u001b[39m\r\n",
      "\u001b[34m       # singular endpoints (real): 424 (0)\u001b[39m\r\n",
      "\u001b[34m          # total solutions (real): 442 (10)\u001b[39m\n"
     ]
    },
    {
     "data": {
      "text/plain": [
       "18-element Vector{Vector{Float64}}:\n",
       " [6.6904, -0.0498, -0.1461, 0.6822, 2.3175, 3.5412, 1.1843, 0.2138, -0.5572, -0.5572]\n",
       " [-2.614, 0.0932, 0.3544, 0.4833, -0.8349, 0.0, 1.1071, -0.0, 0.0, 0.0]\n",
       " [-2.6947, 0.1237, 0.4041, 0.4221, -0.5789, -0.3349, 1.1381, 0.0433, -0.1257, -0.1257]\n",
       " [-0.5881, 0.5668, 0.3539, 0.8278, 0.7558, -0.3837, 1.1193, 1.1699, -0.6493, -0.6493]\n",
       " [0.3633, -0.3033, -0.3306, 0.6069, 0.8507, 0.2759, 1.2312, 1.1979, -1.035, -1.035]\n",
       " [0.8375, -0.0736, 0.0911, 0.4881, 0.3281, 1.3697, 2.1775, -1.2691, -2.5741, -2.5741]\n",
       " [-4.7597, 0.07, 0.1685, 0.5507, -2.4354, 0.449, 1.252, -0.0491, 0.105, 0.105]\n",
       " [-0.4872, 0.0516, -0.3919, 0.9474, 1.7717, -1.6641, 0.9212, 0.3713, -0.5388, -0.5388]\n",
       " [6.5377, -0.051, -0.0519, 0.612, 0.9841, 5.2049, 1.2397, 0.9696, -0.8773, -0.8773]\n",
       " [0.8375, -0.0736, 0.0911, 0.4881, 0.3281, 1.3697, 2.1775, -1.2691, -2.5741, -2.5741]\n",
       " [0.3633, -0.3033, -0.3306, 0.6069, 0.8507, 0.2759, 1.2312, 1.1979, -1.035, -1.035]\n",
       " [-1.6346, -2.0613, 0.0, 0.6187, -0.2842, 0.5137, 0.0, -1.7889, -0.0, 0.0]\n",
       " [2.3034, -0.0766, 0.3291, 0.3105, 0.2411, 2.6992, 1.1107, 0.041, -0.8416, -0.8416]\n",
       " [-0.4872, 0.0516, -0.3919, 0.9474, 1.7717, -1.6641, 0.9212, 0.3713, -0.5388, -0.5388]\n",
       " [2.3034, -0.0766, 0.3291, 0.3105, 0.2411, 2.6992, 1.1107, 0.041, -0.8416, -0.8416]\n",
       " [-0.0363, 0.1195, -0.0, 0.9502, 1.0752, 0.0, 0.8933, 0.9025, -0.0, -0.0]\n",
       " [0.1614, -2.0654, -0.0336, -1.078, 0.5449, 0.5194, 0.0061, 1.2147, -0.0176, -0.0176]\n",
       " [8.0333, -7.9738, -0.1081, -0.0439, 0.0152, 0.1387, 0.0, -0.0, 0.0, 0.0]"
      ]
     },
     "execution_count": 37,
     "metadata": {},
     "output_type": "execute_result"
    }
   ],
   "source": [
    "result = solve(F_sys)\n",
    "\n",
    "#result = solve(F_sys ; start_system = :total_degree)\n",
    "\n",
    "rounded_solutions = [ real.(round.(sol; digits=4)) for sol in solutions(result)  ]"
   ]
  },
  {
   "cell_type": "code",
   "execution_count": 41,
   "id": "7d39e995",
   "metadata": {},
   "outputs": [
    {
     "data": {
      "text/plain": [
       "2×2 Matrix{Float64}:\n",
       "  1.0  8.0\n",
       " -8.0  1.0"
      ]
     },
     "execution_count": 41,
     "metadata": {},
     "output_type": "execute_result"
    }
   ],
   "source": [
    "Gamma"
   ]
  },
  {
   "cell_type": "code",
   "execution_count": 40,
   "id": "4639974d",
   "metadata": {},
   "outputs": [
    {
     "data": {
      "text/plain": [
       "30943.525145300846"
      ]
     },
     "metadata": {},
     "output_type": "display_data"
    },
    {
     "data": {
      "text/plain": [
       "6874.750423949811"
      ]
     },
     "metadata": {},
     "output_type": "display_data"
    },
    {
     "data": {
      "text/plain": [
       "7177.29924387398"
      ]
     },
     "metadata": {},
     "output_type": "display_data"
    },
    {
     "data": {
      "text/plain": [
       "18629.65388735653"
      ]
     },
     "metadata": {},
     "output_type": "display_data"
    },
    {
     "data": {
      "text/plain": [
       "20798.49562354775"
      ]
     },
     "metadata": {},
     "output_type": "display_data"
    },
    {
     "data": {
      "text/plain": [
       "23532.692958747586"
      ]
     },
     "metadata": {},
     "output_type": "display_data"
    },
    {
     "data": {
      "text/plain": [
       "10615.616019072255"
      ]
     },
     "metadata": {},
     "output_type": "display_data"
    },
    {
     "data": {
      "text/plain": [
       "16274.879448471736"
      ]
     },
     "metadata": {},
     "output_type": "display_data"
    },
    {
     "data": {
      "text/plain": [
       "50081.54172609816"
      ]
     },
     "metadata": {},
     "output_type": "display_data"
    },
    {
     "data": {
      "text/plain": [
       "23532.692958747586"
      ]
     },
     "metadata": {},
     "output_type": "display_data"
    },
    {
     "data": {
      "text/plain": [
       "20798.49562354775"
      ]
     },
     "metadata": {},
     "output_type": "display_data"
    },
    {
     "data": {
      "text/plain": [
       "226008.60578651147"
      ]
     },
     "metadata": {},
     "output_type": "display_data"
    },
    {
     "data": {
      "text/plain": [
       "27772.9739310348"
      ]
     },
     "metadata": {},
     "output_type": "display_data"
    },
    {
     "data": {
      "text/plain": [
       "16274.879448471736"
      ]
     },
     "metadata": {},
     "output_type": "display_data"
    },
    {
     "data": {
      "text/plain": [
       "27772.9739310348"
      ]
     },
     "metadata": {},
     "output_type": "display_data"
    },
    {
     "data": {
      "text/plain": [
       "21680.59614175916"
      ]
     },
     "metadata": {},
     "output_type": "display_data"
    },
    {
     "data": {
      "text/plain": [
       "3592.0094486341445"
      ]
     },
     "metadata": {},
     "output_type": "display_data"
    },
    {
     "data": {
      "text/plain": [
       "79343.02137533782"
      ]
     },
     "metadata": {},
     "output_type": "display_data"
    },
    {
     "name": "stdout",
     "output_type": "stream",
     "text": [
      "Mínimo = 3592.0094486341445 na posição 17\n",
      "Par ótimo:\n",
      "Γ = [1.0 0.16; -2.07 1.0]\n",
      "Bs = [-0.03 0.0; -1.08 0.54; 0.0 0.52]\n"
     ]
    }
   ],
   "source": [
    "resultados_sol = []\n",
    "for sol in solutions(result) \n",
    "    Aux = real.(round.(sol[1:6]; digits=2))\n",
    "\n",
    "    Γ_eu = [  1      Aux[1];\n",
    "            Aux[2]    1]\n",
    "    \n",
    "    B_eu = [Aux[3]   0;\n",
    "            Aux[4]   Aux[5];\n",
    "            0        Aux[6]]\n",
    "    \n",
    "    \n",
    "#    Γ_eu = inv(Γ_eu)\n",
    "    val = VpV(Y, X, Γ_eu, B_eu)\n",
    "    push!(resultados_sol, (Γ = Γ_eu, Bs = B_eu, detVpV=val))\n",
    "    display(val)\n",
    "end\n",
    "\n",
    "\n",
    "min_val, pos = findmin(r[:detVpV] for r in resultados_sol)\n",
    "\n",
    "println(\"Mínimo = $min_val na posição $pos\")\n",
    "\n",
    "# agora pega a tupla correspondente\n",
    "Resultado2 = resultados_sol[pos]\n",
    "\n",
    "println(\"Par ótimo:\")\n",
    "println(\"Γ = \", Resultado2.Γ)\n",
    "println(\"Bs = \", Resultado2.Bs)"
   ]
  },
  {
   "cell_type": "code",
   "execution_count": 27,
   "id": "ea332673",
   "metadata": {},
   "outputs": [
    {
     "data": {
      "text/plain": [
       "2×2 Matrix{Float64}:\n",
       " 1.0   -8.03\n",
       " 7.97   1.0"
      ]
     },
     "execution_count": 27,
     "metadata": {},
     "output_type": "execute_result"
    }
   ],
   "source": [
    "inv(Resultado2[1])"
   ]
  },
  {
   "cell_type": "markdown",
   "id": "fb95e173",
   "metadata": {},
   "source": [
    "# Formas de resolver\n",
    "\n",
    "## (III)"
   ]
  },
  {
   "cell_type": "code",
   "execution_count": 11,
   "id": "23d5c996",
   "metadata": {},
   "outputs": [],
   "source": [
    "q1 = length(findall(x -> x != 0 , vec(B)))\n",
    "q2 = length(findall(x -> x != 0 && x!= 1, vec(Gamma)))\n",
    "\n",
    "@var bh[1:q1] gamh[1:q2]\n",
    "\n",
    "\n",
    "Beta_esth = zeros(Num,k,g)\n",
    "Gamma_esth = Matrix{Num}(I, g, g) \n",
    "\n",
    "it = 1\n",
    "\n",
    "for i in 1:k\n",
    "    for j in 1:g\n",
    "        if(B[i,j] != 0)\n",
    "            Beta_esth[i,j] = bh[it]\n",
    "            it = it + 1\n",
    "        end\n",
    "    end\n",
    "end\n",
    "\n",
    "\n",
    "it = 1\n",
    "for i in 1:g\n",
    "    for j in 1:g\n",
    "        if(Gamma[i,j] != 0 && Gamma[i,j] != 1)\n",
    "            Gamma_esth[i,j] = gamh[it]\n",
    "            it = it + 1\n",
    "        end\n",
    "    end\n",
    "end\n",
    "\n",
    "#display(Beta_esth)\n",
    "#display(Gamma_esth)\n"
   ]
  },
  {
   "cell_type": "code",
   "execution_count": 12,
   "id": "2521ebef",
   "metadata": {},
   "outputs": [
    {
     "data": {
      "text/plain": [
       "\"oi\""
      ]
     },
     "metadata": {},
     "output_type": "display_data"
    }
   ],
   "source": [
    "detGh = det(Gamma_esth')\n",
    "Uh = Y*Gamma_esth - X*Beta_esth\n",
    "Auxeq = (detGh*inv(Gamma_esth'))*Beta_esth'\n",
    "\n",
    "\n",
    "eqa1 = vec(X'Uh) \n",
    "\n",
    "eqa2 = vec(Auxeq*X'Uh)\n",
    "\n",
    "eqf_1 = (simplify.(eqa1))\n",
    "eqf_2 = (simplify.(eqa2))\n",
    "\n",
    "\n",
    "F = vec( [eqf_1 ; eqf_2] ) \n",
    "\n",
    "vars = [ gamh ; bh]\n",
    "\n",
    "F_sys = System(F; variables=vars)\n",
    "\n",
    "display(\"oi\")\n"
   ]
  },
  {
   "cell_type": "code",
   "execution_count": 13,
   "id": "cf68bc3e",
   "metadata": {},
   "outputs": [
    {
     "name": "stdout",
     "output_type": "stream",
     "text": [
      "\r",
      "\u001b[32mTracking 400 paths... 100%|█████████████████████████████| Time: 0:01:48\u001b[39m\r\n",
      "\u001b[34m                   # paths tracked: 400\u001b[39m\r\n",
      "\u001b[34m   # non-singular solutions (real): 1 (1)\u001b[39m\r\n",
      "\u001b[34m       # singular endpoints (real): 0 (0)\u001b[39m\r\n",
      "\u001b[34m          # total solutions (real): 1 (1)\u001b[39m\n"
     ]
    },
    {
     "data": {
      "text/plain": [
       "1-element Vector{Vector{Float64}}:\n",
       " [8.0333, -7.9738, -7.0333, -2.8557, 0.9912, 9.0203]"
      ]
     },
     "execution_count": 13,
     "metadata": {},
     "output_type": "execute_result"
    }
   ],
   "source": [
    "result = solve(F_sys)\n",
    "rounded_solutions = [ real.(round.(sol; digits=4)) for sol in solutions(result)  ]\n"
   ]
  },
  {
   "cell_type": "code",
   "execution_count": 14,
   "id": "853bbc08",
   "metadata": {},
   "outputs": [
    {
     "name": "stdout",
     "output_type": "stream",
     "text": [
      "Mínimo = 16.24209967432221 na posição 1\n",
      "Par ótimo:\n",
      "Γ = [1.0 8.03; -7.97 1.0]\n",
      "Bs = [-7.03 0.0; -2.86 0.99; 0.0 9.02]\n"
     ]
    }
   ],
   "source": [
    "resultados_sol = []\n",
    "for sol in solutions(result) \n",
    "    Aux = real.(round.(sol[1:6]; digits=2))\n",
    "\n",
    "    Γ_eu = [  1      Aux[1];\n",
    "            Aux[2]    1]\n",
    "    \n",
    "    B_eu = [Aux[3]   0;\n",
    "            Aux[4]   Aux[5];\n",
    "            0        Aux[6]]\n",
    "    \n",
    "    val = VpV(Y, X, Γ_eu, B_eu)\n",
    "    push!(resultados_sol, (Γ = Γ_eu, Bs = B_eu, detVpV=val))\n",
    "#    display(val)\n",
    "end\n",
    "\n",
    "\n",
    "min_val, pos = findmin(r[:detVpV] for r in resultados_sol)\n",
    "\n",
    "println(\"Mínimo = $min_val na posição $pos\")\n",
    "\n",
    "# agora pega a tupla correspondente\n",
    "Resultado3 = resultados_sol[pos]\n",
    "\n",
    "println(\"Par ótimo:\")\n",
    "println(\"Γ = \", Resultado3.Γ)\n",
    "println(\"Bs = \", Resultado3.Bs)"
   ]
  },
  {
   "cell_type": "markdown",
   "id": "8b107b8a",
   "metadata": {},
   "source": [
    "# Formas de resolver\n",
    "\n",
    "## (IV)"
   ]
  },
  {
   "cell_type": "code",
   "execution_count": 15,
   "id": "cb1a9428",
   "metadata": {},
   "outputs": [
    {
     "data": {
      "text/plain": [
       "hausman_iter_sem (generic function with 1 method)"
      ]
     },
     "execution_count": 15,
     "metadata": {},
     "output_type": "execute_result"
    }
   ],
   "source": [
    "using LinearAlgebra, Statistics\n",
    "\n",
    "# util: bloco diagonal\n",
    "function blkdiag(mats::AbstractMatrix...)\n",
    "    r = sum(size(m,1) for m in mats)\n",
    "    c = sum(size(m,2) for m in mats)\n",
    "    M = zeros(eltype(mats[1]), r, c)\n",
    "    ri = 1; ci = 1\n",
    "    for A in mats\n",
    "        rr, cc = size(A)\n",
    "        M[ri:ri+rr-1, ci:ci+cc-1] .= A\n",
    "        ri += rr; ci += cc\n",
    "    end\n",
    "    return M\n",
    "end\n",
    "\n",
    "function hausman_iter_sem(Y::AbstractMatrix, Z::AbstractMatrix;\n",
    "        endog_sets::Vector{Vector{Int}},\n",
    "        exog_sets::Vector{Vector{Int}},\n",
    "        inst_sets::Union{Nothing,Vector{Vector{Int}}}=nothing,\n",
    "        maxiter::Int=200, tol::Float64=1e-8, verbose::Bool=true)\n",
    "\n",
    "    T, M = size(Y)\n",
    "    K = size(Z,2)\n",
    "    @assert length(endog_sets)==M && length(exog_sets)==M\n",
    "\n",
    "    # instrumentos por equação\n",
    "    if inst_sets === nothing\n",
    "        inst_sets = [collect(1:K) for _ in 1:M]   # todos Z como instrumentos\n",
    "    end\n",
    "\n",
    "    # constrói blocos de regressoras (X_i) e instrumentos (Z_i) por equação\n",
    "    function build_blocks()\n",
    "        Xblocks = Vector{Matrix{Float64}}(undef, M)\n",
    "        Zblocks = Vector{Matrix{Float64}}(undef, M)\n",
    "        yblocks = Vector{Vector{Float64}}(undef, M)\n",
    "        for i in 1:M\n",
    "            Xi = hcat(Y[:, endog_sets[i]], Z[:, exog_sets[i]])\n",
    "            Zi = Z[:, inst_sets[i]]\n",
    "            Xblocks[i] = Array(Xi)\n",
    "            Zblocks[i] = Array(Zi)\n",
    "            yblocks[i] = Array(Y[:, i])\n",
    "        end\n",
    "        return Xblocks, Zblocks, yblocks\n",
    "    end\n",
    "\n",
    "    Xb, Zb, yb = build_blocks()\n",
    "    # empilha em bloco diagonal\n",
    "    X = blkdiag(Xb...)\n",
    "    Zsys = blkdiag(Zb...)\n",
    "    y = vcat(yb...)\n",
    "\n",
    "    # projeção por 2SLS por equação (inicial consistente)\n",
    "    function twoSLS_per_eq(yb, Xb, Zb)\n",
    "        βhat = Vector{Vector{Float64}}(undef, M)\n",
    "        for i in 1:M\n",
    "            Zi, Xi, yi = Zb[i], Xb[i], yb[i]\n",
    "            Pz = Zi * inv(Zi'Zi) * Zi'\n",
    "            βhat[i] = inv(Xi'Pz*Xi) * (Xi'Pz*yi)\n",
    "        end\n",
    "        return βhat\n",
    "    end\n",
    "    βblocks = twoSLS_per_eq(yb, Xb, Zb)\n",
    "    β = vcat(βblocks...)\n",
    "\n",
    "    # funções auxiliares\n",
    "    # residuals por equação, dados β\n",
    "    function residuals(β::Vector{Float64})\n",
    "        res = zeros(T, M)\n",
    "        idx = 1\n",
    "        for i in 1:M\n",
    "            pi = size(Xb[i],2)\n",
    "            b_i = β[idx:idx+pi-1]\n",
    "            res[:, i] = yb[i] .- Xb[i]*b_i\n",
    "            idx += pi\n",
    "        end\n",
    "        return res\n",
    "    end\n",
    "\n",
    "    # log-likelihood concentrada (up to constants): - (T/2) log det(Σ)\n",
    "    llhist = Float64[]\n",
    "    function conc_loglik(Σ::Matrix{Float64})\n",
    "        # ignorando termos constantes e |det(B)| (absorvido pela parametrização);\n",
    "        # útil só como monitor monotônico aproximado\n",
    "        return -0.5*T*log(det(Σ))\n",
    "    end\n",
    "\n",
    "    converged = false\n",
    "    for it in 1:maxiter\n",
    "        # (1) estima Σ a partir dos resíduos estruturais\n",
    "        U = residuals(β)\n",
    "        Σ = (U'U)/T\n",
    "\n",
    "        # (2) peso GLS de sistema: Ω^{-1} = Σ^{-1} ⊗ I_T\n",
    "        Σinv = inv(Symmetric(Σ))\n",
    "        Winv = kron(Σinv, I(T))\n",
    "\n",
    "        # (3) passo FIIV/3SLS (sistema IV ponderado)\n",
    "        #     β_{new} = (X' W Z (Z' W Z)^{-1} Z' W X)^{-1} X' W Z (Z' W Z)^{-1} Z' W y\n",
    "        ZWZ = Zsys' * Winv * Zsys\n",
    "        PzW = Zsys * inv(Symmetric(ZWZ)) * Zsys'   # \"projeção\" ponderada\n",
    "        XWPZX = X' * Winv * PzW * X\n",
    "        XWPZy = X' * Winv * PzW * y\n",
    "        β_new = inv(Symmetric(XWPZX)) * XWPZy\n",
    "\n",
    "        # (4) checa convergência\n",
    "        diff = maximum(abs.(β_new .- β))\n",
    "        push!(llhist, conc_loglik(Σ))\n",
    "        if verbose\n",
    "            @info \"iter $it |Δβ|∞ = $(round(diff, sigdigits=4))\"\n",
    "        end\n",
    "        if diff < tol\n",
    "            β = β_new\n",
    "            converged = true\n",
    "            break\n",
    "        end\n",
    "        β = β_new\n",
    "    end\n",
    "\n",
    "    # arruma saída por equação\n",
    "    βblocks = Vector{Vector{Float64}}(undef, M)\n",
    "    idx = 1\n",
    "    for i in 1:M\n",
    "        pi = size(Xb[i],2)\n",
    "        βblocks[i] = β[idx:idx+pi-1]\n",
    "        idx += pi\n",
    "    end\n",
    "\n",
    "    return (β = β, β_blocks = βblocks, Σ = (residuals(β)'*residuals(β))/T,\n",
    "            ll = llhist, converged = converged)\n",
    "end\n"
   ]
  },
  {
   "cell_type": "code",
   "execution_count": 16,
   "id": "cd2243e1",
   "metadata": {},
   "outputs": [
    {
     "name": "stderr",
     "output_type": "stream",
     "text": [
      "\u001b[36m\u001b[1m[ \u001b[22m\u001b[39m\u001b[36m\u001b[1mInfo: \u001b[22m\u001b[39miter 1 |Δβ|∞ = 1.192e-12\n"
     ]
    },
    {
     "data": {
      "text/plain": [
       "(β = [7.973843762901175, -7.033288971304439, -2.8557359510057534, -8.033271935495263, 0.9912225739161161, 9.020312240602623], β_blocks = [[7.973843762901175, -7.033288971304439, -2.8557359510057534], [-8.033271935495263, 0.9912225739161161, 9.020312240602623]], Σ = [1.689335114656949 -0.05269254717142278; -0.05269254717142278 0.04233277564977142], ll = [1338.728443687886], converged = true)"
      ]
     },
     "execution_count": 16,
     "metadata": {},
     "output_type": "execute_result"
    }
   ],
   "source": [
    "res = hausman_iter_sem(Y, X;\n",
    "    endog_sets = [[2], [1]],\n",
    "    exog_sets  = [[1,2], [2,3]],\n",
    "    inst_sets  = nothing,   # usa todos os Z como instrumentos\n",
    "    tol = 1e-8,\n",
    "    maxiter = 1000,\n",
    "    verbose = true\n",
    ")\n",
    "\n",
    "\n"
   ]
  },
  {
   "cell_type": "code",
   "execution_count": 17,
   "id": "18b3687a",
   "metadata": {},
   "outputs": [
    {
     "data": {
      "text/plain": [
       "(Γ = [1.0 7.973843762901175; -8.033271935495263 1.0], Bs = [-7.033288971304439 0.0; -2.8557359510057534 0.9912225739161161; 0.0 9.020312240602623], detVpV = 16.84461185798735)"
      ]
     },
     "execution_count": 17,
     "metadata": {},
     "output_type": "execute_result"
    }
   ],
   "source": [
    "Γ_eu = [  1      res[1][1];\n",
    "        res[1][4]    1]\n",
    "\n",
    "B_eu = [res[1][2]   0;\n",
    "        res[1][3]   res[1][5];\n",
    "        0           res[1][6]]\n",
    "\n",
    "val = VpV(Y, X, Γ_eu, B_eu)\n",
    "Resultado4 = (Γ = Γ_eu, Bs = B_eu, detVpV=val)"
   ]
  },
  {
   "cell_type": "markdown",
   "id": "28d27bb8",
   "metadata": {},
   "source": [
    "# Comparar os resultados de cada método\n",
    "\n",
    "Temos 4 soluções, e ver como cada uma recuperou o valor verdadeiro.\n"
   ]
  },
  {
   "cell_type": "code",
   "execution_count": 18,
   "id": "4388b2bf",
   "metadata": {},
   "outputs": [
    {
     "data": {
      "text/plain": [
       "3×2 Matrix{Float64}:\n",
       " -7.0  0.0\n",
       " -3.0  1.0\n",
       "  0.0  9.0"
      ]
     },
     "metadata": {},
     "output_type": "display_data"
    },
    {
     "data": {
      "text/plain": [
       "2×2 Matrix{Float64}:\n",
       "  1.0  8.0\n",
       " -8.0  1.0"
      ]
     },
     "metadata": {},
     "output_type": "display_data"
    }
   ],
   "source": [
    "display(B)\n",
    "display(Gamma)"
   ]
  },
  {
   "cell_type": "code",
   "execution_count": 21,
   "id": "efdb79af",
   "metadata": {},
   "outputs": [
    {
     "data": {
      "text/plain": [
       "2×2 Matrix{Float64}:\n",
       "  1.0   8.03\n",
       " -7.97  1.0"
      ]
     },
     "metadata": {},
     "output_type": "display_data"
    },
    {
     "data": {
      "text/plain": [
       "2×2 Matrix{Float64}:\n",
       " 1.0   -0.84\n",
       " 0.07   1.0"
      ]
     },
     "metadata": {},
     "output_type": "display_data"
    },
    {
     "data": {
      "text/plain": [
       "2×2 Matrix{Float64}:\n",
       "  1.0   8.03\n",
       " -7.97  1.0"
      ]
     },
     "metadata": {},
     "output_type": "display_data"
    },
    {
     "data": {
      "text/plain": [
       "2×2 Matrix{Float64}:\n",
       "  1.0      7.97384\n",
       " -8.03327  1.0"
      ]
     },
     "metadata": {},
     "output_type": "display_data"
    }
   ],
   "source": [
    "display(Resultado1[1])\n",
    "display(Resultado2[1])\n",
    "display(Resultado3[1])\n",
    "display(Resultado4[1])"
   ]
  },
  {
   "cell_type": "markdown",
   "id": "76908d52",
   "metadata": {},
   "source": [
    "# Function to check minimum of V'V\n",
    "\n"
   ]
  },
  {
   "cell_type": "code",
   "execution_count": null,
   "id": "b446258a",
   "metadata": {},
   "outputs": [],
   "source": [
    "function VpV(Y, X, Γ, B)\n",
    "    V = Y - X * B * inv(Γ)\n",
    "    return det(V' * V)\n",
    "end"
   ]
  },
  {
   "cell_type": "code",
   "execution_count": null,
   "id": "1a05a2b5",
   "metadata": {},
   "outputs": [],
   "source": [
    "rounded_solutions = [ real.(round.(sol[1:6]; digits=2)) for sol in solutions(result)  ]"
   ]
  },
  {
   "cell_type": "code",
   "execution_count": null,
   "id": "178f21e2",
   "metadata": {},
   "outputs": [],
   "source": [
    "length(solutions(result))"
   ]
  },
  {
   "cell_type": "code",
   "execution_count": null,
   "id": "a8138e28",
   "metadata": {},
   "outputs": [],
   "source": [
    "for sol in solutions(result) \n",
    "    resultados_sol = []\n",
    "    Aux = real.(round.(sol[1:6]; digits=2))\n",
    "\n",
    "    Γ_eu = [  1      Aux[1];\n",
    "            Aux[2]    1]\n",
    "    \n",
    "    B_eu = [Aux[3]   0;\n",
    "            Aux[4]   Aux[5];\n",
    "            0        Aux[6]]\n",
    "    \n",
    "    val = VpV(Y, X, Γ_eu, B_eu)\n",
    "    push!(resultados_sol, (Γ = Γ_eu, Bs = B_eu, detVpV=val))\n",
    "    display(val)\n",
    "end"
   ]
  },
  {
   "cell_type": "code",
   "execution_count": null,
   "id": "28980545",
   "metadata": {},
   "outputs": [],
   "source": [
    "Aux = rounded_solutions[1]"
   ]
  },
  {
   "cell_type": "code",
   "execution_count": null,
   "id": "92e77141",
   "metadata": {},
   "outputs": [],
   "source": [
    "Aux = rounded_solutions[1]\n",
    "resultados_sol = []\n",
    "for i1 in [0; -0.1; 0.1], i2 in [0; -0.1; 0.1], i3 in [0; -0.1; 0.1], i4 in [0; -0.1; 0.1], i5 in [0; -0.1; 0.1], i6 in [0; -0.1; 0.1]\n",
    "\n",
    "\n",
    "    Γ_eu = [  1      Aux[1] + i1;\n",
    "            Aux[2]+i2    1]\n",
    "    \n",
    "    B_eu = [Aux[3]+i3   0;\n",
    "            Aux[4]+i4   Aux[5]+i5;\n",
    "            0        Aux[6]+i6]\n",
    "    \n",
    "    val = VpV(Y, X, Γ_eu, B_eu)\n",
    "    push!(resultados_sol, (Γ = Γ_eu, Bs = B_eu, detVpV=val))\n",
    "end"
   ]
  },
  {
   "cell_type": "code",
   "execution_count": null,
   "id": "1b2c9349",
   "metadata": {},
   "outputs": [],
   "source": [
    "resultados_sol"
   ]
  },
  {
   "cell_type": "code",
   "execution_count": null,
   "id": "c2eab655",
   "metadata": {},
   "outputs": [],
   "source": [
    "min_val, pos = findmin(r[:detVpV] for r in resultados_sol)\n",
    "\n",
    "println(\"Mínimo = $min_val na posição $pos\")\n",
    "\n",
    "# agora pega a tupla correspondente\n",
    "min_tuple = resultados_sol[pos]\n",
    "\n",
    "println(\"Par ótimo:\")\n",
    "println(\"Γ = \", min_tuple.Γ)\n",
    "println(\"Bs = \", min_tuple.Bs)"
   ]
  },
  {
   "cell_type": "code",
   "execution_count": null,
   "id": "00fabbdf",
   "metadata": {},
   "outputs": [],
   "source": [
    "Γ_1 = [1 8.03;\n",
    "      -7.97 1]\n",
    "B_1 = [-7.03 0;\n",
    "       -2.86 0.99;\n",
    "        0   9.02]"
   ]
  },
  {
   "cell_type": "code",
   "execution_count": null,
   "id": "4d8ad2b2",
   "metadata": {},
   "outputs": [],
   "source": [
    "U1 = Y*Γ_1 - X*B_1\n",
    "\n",
    "Sigma1 = (U1'U1/n)"
   ]
  },
  {
   "cell_type": "code",
   "execution_count": null,
   "id": "ef53356f",
   "metadata": {},
   "outputs": [],
   "source": [
    "Sigma"
   ]
  },
  {
   "cell_type": "markdown",
   "id": "2ff59fd4",
   "metadata": {},
   "source": [
    "# Fazer um super grid\n",
    "\n",
    "Essa seção ainda não terminei"
   ]
  },
  {
   "cell_type": "code",
   "execution_count": null,
   "id": "46e7c3b3",
   "metadata": {},
   "outputs": [],
   "source": [
    "function det_grid(Y, X)\n",
    "    results = []\n",
    "\n",
    "    for γ1 in -10:1:10, β1 in -10:1:10, β2 in -10:1:10, β3 in -10:1:10\n",
    "        Γ  = [1 γ1;\n",
    "              0 1]\n",
    "        Bs = [β1 0;\n",
    "              β2 β3]\n",
    "        \n",
    "        val = VpV(Y, X, Γ, B)\n",
    "        push!(results, (Γ = Γ, Bs = Bs, detVpV=val))\n",
    "    end\n",
    "\n",
    "    return results\n",
    "end"
   ]
  },
  {
   "cell_type": "code",
   "execution_count": null,
   "id": "6c2e2ece",
   "metadata": {},
   "outputs": [],
   "source": [
    "resultado = det_grid(Y,X)"
   ]
  },
  {
   "cell_type": "code",
   "execution_count": null,
   "id": "ced41351",
   "metadata": {},
   "outputs": [],
   "source": [
    "min_val, pos = findmin(r[:detVpV] for r in resultado)\n",
    "\n",
    "println(\"Mínimo = $min_val na posição $pos\")\n",
    "\n",
    "# agora pega a tupla correspondente\n",
    "min_tuple = resultado[pos]\n",
    "\n",
    "println(\"Par ótimo:\")\n",
    "println(\"Γ = \", min_tuple.Γ)\n",
    "println(\"Bs = \", min_tuple.Bs)"
   ]
  },
  {
   "cell_type": "markdown",
   "id": "f7c9b25f",
   "metadata": {},
   "source": [
    "# Teste de overidentificação\n",
    "\n",
    "\n",
    "Encontrar valor da ll do FIML.\n",
    "\n",
    "Encontrar valor da ll do unrestricted reduced form (URF) ~ vindo do OLS\n",
    "\n",
    "2(l_1 - l_2) ~ Chi Quadrada"
   ]
  },
  {
   "cell_type": "code",
   "execution_count": null,
   "id": "a49f0076",
   "metadata": {},
   "outputs": [],
   "source": [
    "PI = inv(X'X)X'Y"
   ]
  },
  {
   "cell_type": "code",
   "execution_count": null,
   "id": "50b24f69",
   "metadata": {},
   "outputs": [],
   "source": [
    "size(X)"
   ]
  },
  {
   "cell_type": "code",
   "execution_count": null,
   "id": "9657b5d6",
   "metadata": {},
   "outputs": [],
   "source": [
    "ll1 = -n * log(   det(   (Y - X*PI)' * (Y - X*PI)/n))/2\n"
   ]
  },
  {
   "cell_type": "code",
   "execution_count": null,
   "id": "45344ae0",
   "metadata": {},
   "outputs": [],
   "source": [
    "display(ll1)\n",
    "display(ll2)"
   ]
  },
  {
   "cell_type": "code",
   "execution_count": null,
   "id": "37fbdfcb",
   "metadata": {},
   "outputs": [],
   "source": [
    "ll1 = -n * log(   det(   (Y - X*PI)' * (Y - X*PI)/n))/2\n",
    "\n",
    "\n",
    "ll2 = -n * log( det((Y - X*B_1*inv(Γ_1))' * (Y - X*B_1*inv(Γ_1))/n))/2\n",
    "            \n",
    "2*(ll1 - ll2)"
   ]
  }
 ],
 "metadata": {
  "kernelspec": {
   "display_name": "Julia 1.10.4",
   "language": "julia",
   "name": "julia-1.10"
  },
  "language_info": {
   "file_extension": ".jl",
   "mimetype": "application/julia",
   "name": "julia",
   "version": "1.10.4"
  }
 },
 "nbformat": 4,
 "nbformat_minor": 5
}
