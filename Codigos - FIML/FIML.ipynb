{
 "cells": [
  {
   "cell_type": "markdown",
   "id": "bb3c4432",
   "metadata": {},
   "source": [
    "# FIML - IV\n",
    "\n",
    "\n",
    "Resolvendo o FIML como se fosse IV, então temos que $det(\\Gamma) = 1$. Dessa forma, basta resolver $\\min |U'U|$"
   ]
  },
  {
   "cell_type": "code",
   "execution_count": 1,
   "id": "bb958f59",
   "metadata": {},
   "outputs": [
    {
     "data": {
      "text/plain": [
       "\"oi\""
      ]
     },
     "metadata": {},
     "output_type": "display_data"
    }
   ],
   "source": [
    "\n",
    "\n",
    "using LinearAlgebra\n",
    "using Symbolics\n",
    "using MultivariatePolynomials\n",
    "using DynamicPolynomials\n",
    "using HomotopyContinuation\n",
    "\n",
    "# função para arredondar polinomios \n",
    "function roundp(p)\n",
    "      if p isa AbstractPolynomialLike\n",
    "          cs = coefficients(p)\n",
    "          ms = monomials(p)\n",
    "          return isempty(cs) ? zero(p) : sum(round(c; digits=1) * m for (c, m) in zip(cs, ms))\n",
    "      elseif p isa Number\n",
    "          return round(p; digits=2)\n",
    "      elseif p isa AbstractArray\n",
    "          return map(roundp, p)\n",
    "      else\n",
    "          error(\"Unsupported type in roundp: $(typeof(p))\")\n",
    "      end\n",
    "  end\n",
    "  # --------------------\n",
    "  \n",
    "\n",
    "\n",
    "# Definição das variáveis\n",
    "n = 100\n",
    "k = 3\n",
    "p = 2\n",
    "q = p-1\n",
    "\n",
    "m1 = p * p\n",
    "m2 = k * p\n",
    "\n",
    "X = rand(n, k)\n",
    "Y = rand(n, p)\n",
    "\n",
    "R1 = [ ones(1, 1)                 zeros(1, q)                         zeros(1, p*q);\n",
    "       zeros(q, 1)              zeros(q, q)                       zeros(q, p*q);\n",
    "       zeros(p*q, 1)          zeros(p*q, q)                   Matrix( I, p*q, p*q )  ]\n",
    "\n",
    "R2 = [ Matrix(I, k, k)                 zeros(k, k*q);\n",
    "       zeros(k*q, k)               zeros(k*q, k*q)  ]\n",
    "\n",
    " \n",
    "display(\"oi\")"
   ]
  },
  {
   "cell_type": "code",
   "execution_count": null,
   "id": "c54e7a44",
   "metadata": {},
   "outputs": [],
   "source": [
    "# --- Crie variáveis simbólicas (tipo Num), não Symbols ---\n",
    "\n",
    "@polyvar γ[1:q] b[1:k*q]\n",
    "\n",
    "Γ = [ 1                    zeros(1, q);\n",
    "      γ                    Matrix(I, q, q) ]\n",
    "\n",
    "\n",
    "B = [ zeros(k, 1)   reshape(b, k, q) ]        \n",
    "\n",
    "U = Y * Γ - X * B        # n×p (simbólico)\n",
    "\n",
    "# --- vetores lambda\n",
    "\n",
    "\n",
    "@polyvar λ[ 1: p^2 - q ]   μ[1:k]\n",
    "\n",
    "lambda1 = [ λ[1] ; zeros(q,1) ; λ[2:end]  ]   # m1×1\n",
    "lambda2 = [  μ[1:k] ; zeros(m2 - k , 1) ]   # m2×1\n",
    "\n"
   ]
  },
  {
   "cell_type": "code",
   "execution_count": null,
   "id": "c5af6675",
   "metadata": {},
   "outputs": [],
   "source": [
    "display(B)\n",
    "display(Γ)"
   ]
  },
  {
   "cell_type": "code",
   "execution_count": null,
   "id": "1db70069",
   "metadata": {},
   "outputs": [],
   "source": [
    "# equações\n",
    "\n",
    "eqA = reshape(Y' * U, p*p, 1) +\n",
    "      kron(U' * U, Matrix(I, p, p)) * R1 * lambda1\n",
    "\n",
    "eqB = reshape((X' * U)', k*p, 1) +\n",
    "      kron(U' * U, Matrix(I, k, k)) * R2 * lambda2\n",
    "\n",
    "\n",
    "\n",
    "# final\n",
    "\n",
    "F = vec( [eqA ; eqB] ) \n",
    "\n",
    "vars = [ γ ; b ; λ ; μ  ]\n",
    "\n",
    "\n",
    "F_sys = System(F; variables=vars)\n",
    "\n",
    "#result = solve(F_sys)\n",
    "result = solve(F_sys ; start_system = :total_degree)\n",
    "\n",
    "rounded_solutions = [ real.(round.(sol; digits=4)) for sol in solutions(result)  ]\n"
   ]
  },
  {
   "cell_type": "code",
   "execution_count": null,
   "id": "06b054df",
   "metadata": {},
   "outputs": [],
   "source": [
    "vars"
   ]
  },
  {
   "cell_type": "markdown",
   "id": "5e92d847",
   "metadata": {},
   "source": [
    "# Tem que terminar aqui pra baixo"
   ]
  },
  {
   "cell_type": "code",
   "execution_count": null,
   "id": "14dbd7ca",
   "metadata": {},
   "outputs": [],
   "source": [
    "resultados_sol = []\n",
    "for sol in solutions(result) \n",
    "    Aux = real.(round.(sol[1:6]; digits=2))\n",
    "\n",
    "Γ_eu = [ 1                         zeros(1, q);\n",
    "         Aux[1]                    Matrix(I, q, q) ]\n",
    "\n",
    "\n",
    "B_eu = [ zeros(k, 1)   reshape(b, k, q) ]  \n",
    "    \n",
    "    val = VpV(Y, X, Γ_eu, B_eu)\n",
    "    push!(resultados_sol, (Γ = Γ_eu, Bs = B_eu, detVpV=val))\n",
    "    display(val)\n",
    "end\n",
    "\n",
    "\n",
    "min_val, pos = findmin(r[:detVpV] for r in resultados_sol)\n",
    "\n",
    "println(\"Mínimo = $min_val na posição $pos\")\n",
    "\n",
    "# agora pega a tupla correspondente\n",
    "Resultado1 = resultados_sol[pos]\n",
    "\n",
    "println(\"Par ótimo:\")\n",
    "println(\"Γ = \", Resultado1.Γ)\n",
    "println(\"Bs = \", Resultado1.Bs)"
   ]
  },
  {
   "cell_type": "markdown",
   "id": "1f972891",
   "metadata": {},
   "source": [
    "## Segunda forma de resolver\n",
    "\n"
   ]
  },
  {
   "cell_type": "code",
   "execution_count": 2,
   "id": "f08fe4d6",
   "metadata": {},
   "outputs": [
    {
     "data": {
      "text/plain": [
       "3×2 Matrix{Expression}:\n",
       " 0.0  b₁\n",
       " 0.0  b₂\n",
       " 0.0  b₃"
      ]
     },
     "execution_count": 2,
     "metadata": {},
     "output_type": "execute_result"
    }
   ],
   "source": [
    "@var b[1:k*q] gam[1:q]\n",
    "\n",
    "Γ = [ 1                      zeros(1, q);\n",
    "      gam                    Matrix(I, q, q) ]\n",
    "\n",
    "\n",
    "B = [ zeros(k, 1)   reshape(b, k, q) ]  \n"
   ]
  },
  {
   "cell_type": "code",
   "execution_count": 3,
   "id": "dd31dfe0",
   "metadata": {},
   "outputs": [
    {
     "ename": "LoadError",
     "evalue": "ArgumentError: matrix contains Infs or NaNs",
     "output_type": "error",
     "traceback": [
      "ArgumentError: matrix contains Infs or NaNs",
      "",
      "Stacktrace:",
      " [1] chkfinite(A::Matrix{Expression})",
      "   @ LinearAlgebra.LAPACK ~/.julia/juliaup/julia-1.10.4+0.aarch64.apple.darwin14/share/julia/stdlib/v1.10/LinearAlgebra/src/lapack.jl:86",
      " [2] generic_lufact!(A::Matrix{Expression}, pivot::RowMaximum; check::Bool)",
      "   @ LinearAlgebra ~/.julia/juliaup/julia-1.10.4+0.aarch64.apple.darwin14/share/julia/stdlib/v1.10/LinearAlgebra/src/lu.jl:136",
      " [3] generic_lufact!",
      "   @ ~/.julia/juliaup/julia-1.10.4+0.aarch64.apple.darwin14/share/julia/stdlib/v1.10/LinearAlgebra/src/lu.jl:134 [inlined]",
      " [4] lu!",
      "   @ ~/.julia/juliaup/julia-1.10.4+0.aarch64.apple.darwin14/share/julia/stdlib/v1.10/LinearAlgebra/src/lu.jl:132 [inlined]",
      " [5] #lu#164",
      "   @ ~/.julia/juliaup/julia-1.10.4+0.aarch64.apple.darwin14/share/julia/stdlib/v1.10/LinearAlgebra/src/lu.jl:300 [inlined]",
      " [6] lu (repeats 2 times)",
      "   @ ~/.julia/juliaup/julia-1.10.4+0.aarch64.apple.darwin14/share/julia/stdlib/v1.10/LinearAlgebra/src/lu.jl:299 [inlined]",
      " [7] inv(A::Matrix{Expression})",
      "   @ LinearAlgebra ~/.julia/juliaup/julia-1.10.4+0.aarch64.apple.darwin14/share/julia/stdlib/v1.10/LinearAlgebra/src/dense.jl:917",
      " [8] top-level scope",
      "   @ In[3]:8"
     ]
    }
   ],
   "source": [
    "U = (Symbolics.expand.(simplify.(Y*Γ - X*B)))\n",
    "\n",
    "UpU = U'U\n",
    "\n",
    "detU = det(UpU)\n",
    "\n",
    "\n",
    "eqa1 = R1* kron( detU*inv(UpU), Y')*vec(U)  \n",
    "eqa2 = R2* kron( detU*inv(UpU), X')*vec(U)\n",
    "\n",
    "eqf_1 = (simplify.(eqa1))\n",
    "eqf_2 = (simplify.(eqa2))\n",
    "\n",
    "\n",
    "F = vec( [eqf_1 ; eqf_2] ) \n",
    "vars = [ gam ; b ; lam1 ; lam2  ]\n",
    "F_sys = System(F; variables=vars)\n",
    "\n",
    "display(\"oi\")"
   ]
  },
  {
   "cell_type": "code",
   "execution_count": null,
   "id": "a10d6e83",
   "metadata": {},
   "outputs": [],
   "source": [
    "result = solve(F_sys)\n",
    "#result = solve(F_sys ; start_system = :total_degree)\n",
    "\n",
    "rounded_solutions = [ real.(round.(sol; digits=4)) for sol in solutions(result)  ]\n"
   ]
  },
  {
   "cell_type": "markdown",
   "id": "60700dae",
   "metadata": {},
   "source": [
    "# Caso queiramos ver U'U\n",
    "\n"
   ]
  },
  {
   "cell_type": "code",
   "execution_count": null,
   "id": "b9f1260d",
   "metadata": {},
   "outputs": [],
   "source": [
    "function UpU(gamma1, beta)\n",
    "      B_1 = [ zeros(k, 1)   beta ] \n",
    "      Γ_1 = [ 1               zeros(1, q);\n",
    "              gamma1          Matrix(I, q, q) ]\n",
    "    \n",
    "      U = Y*Γ_1 - X*B_1 \n",
    "    \n",
    "      return det(U'*U)\n",
    "end"
   ]
  },
  {
   "cell_type": "code",
   "execution_count": null,
   "id": "51898500",
   "metadata": {},
   "outputs": [],
   "source": [
    "xs = range(-5, 5; length=2000)\n",
    "ys = range(-5, 5; length=2000)\n",
    "\n",
    "#Z = [VpV(x, y) for x in xs, y in ys]\n",
    "\n",
    "Z_2 = [UpU(x, y) for x in xs, y in ys]\n",
    "\n",
    "display(\"oi\")"
   ]
  },
  {
   "cell_type": "code",
   "execution_count": null,
   "id": "9c771d6f",
   "metadata": {},
   "outputs": [],
   "source": [
    "#display(minimum(Z))\n",
    "display(minimum(Z_2))"
   ]
  },
  {
   "cell_type": "code",
   "execution_count": null,
   "id": "400b8bc8",
   "metadata": {},
   "outputs": [],
   "source": [
    "#display(VpV(-0.6,0.89))\n",
    "\n",
    "#display(VpV(-4.81, 0))"
   ]
  },
  {
   "cell_type": "code",
   "execution_count": null,
   "id": "989232c2",
   "metadata": {},
   "outputs": [],
   "source": [
    "display(UpU(-0.6,0.89))\n",
    "\n",
    "display(UpU(-4.81, 0))"
   ]
  },
  {
   "cell_type": "markdown",
   "id": "3fa4d9dc",
   "metadata": {},
   "source": [
    "# Curvas de nível"
   ]
  },
  {
   "cell_type": "code",
   "execution_count": null,
   "id": "d6a38290",
   "metadata": {},
   "outputs": [],
   "source": [
    "using Plots\n",
    "\n",
    "contour(xs, ys, Z_2;\n",
    "        levels=20,\n",
    "        xlabel=\"x\", ylabel=\"y\",\n",
    "        legend=false, aspect_ratio=1, framestyle=:box)\n",
    "\n",
    "x0, y0 = -0.60, 0.89\n",
    "\n",
    "scatter!([x0], [y0];\n",
    "    markershape=:circle,\n",
    "    markersize=3,                 # bem maior\n",
    "    color=:red,\n",
    "    markerstrokecolor=:black,      # contorno preto\n",
    "    markerstrokewidth=2,\n",
    "    label=\"mínimo\")\n",
    "\n",
    "\n",
    "x1, y1 = -4.81, 0\n",
    "\n",
    "scatter!([x1], [y1];\n",
    "    markershape=:circle,\n",
    "    markersize=3,                 # bem maior\n",
    "    color=:red,\n",
    "    markerstrokecolor=:black,      # contorno preto\n",
    "    markerstrokewidth=2,\n",
    "    label=\"mínimo\")\n"
   ]
  },
  {
   "cell_type": "code",
   "execution_count": null,
   "id": "8dca19cf",
   "metadata": {},
   "outputs": [],
   "source": [
    "contour(xs, ys, Z;\n",
    "        levels=20,\n",
    "        xlabel=\"x\", ylabel=\"y\",\n",
    "        legend=false, aspect_ratio=1, framestyle=:box)\n",
    "\n",
    "\n",
    "scatter!([x0], [y0];\n",
    "    markershape=:circle,\n",
    "    markersize=3,                 # bem maior\n",
    "    color=:red,\n",
    "    markerstrokecolor=:black,      # contorno preto\n",
    "    markerstrokewidth=2,\n",
    "    label=\"mínimo\")\n",
    "\n",
    "scatter!([x1], [y1];\n",
    "    markershape=:circle,\n",
    "    markersize=3,                 # bem maior\n",
    "    color=:red,\n",
    "    markerstrokecolor=:black,      # contorno preto\n",
    "    markerstrokewidth=2,\n",
    "    label=\"mínimo\")\n"
   ]
  },
  {
   "cell_type": "markdown",
   "id": "216a756d",
   "metadata": {},
   "source": [
    "# LIML"
   ]
  },
  {
   "cell_type": "code",
   "execution_count": null,
   "id": "16e426bc",
   "metadata": {},
   "outputs": [],
   "source": [
    "\n",
    "# Conferir com LIML \n",
    "\n",
    "\n",
    "M = Matrix(I , n , n) - X * inv(X' * X) * X'\n",
    "\n",
    "\n",
    "function Q(x)\n",
    "      numerador = x' * Y' * Y * x\n",
    "      denominador = x' * Y' * M * Y * x\n",
    "      return numerador / denominador\n",
    "end\n",
    "\n",
    "\n",
    "λ, V = eigen(Y' * Y, Y' * M * Y)\n",
    "\n",
    "V\n",
    "\n",
    "V_normalizada = hcat([V[:,j] / V[1,j] for j in 1:size(V,2)]...)\n",
    "\n",
    "\n",
    "V_normalizada\n",
    "\n"
   ]
  },
  {
   "cell_type": "code",
   "execution_count": null,
   "id": "54157b6d",
   "metadata": {},
   "outputs": [],
   "source": [
    "Q(  [1, -0.950317 , -0.005538]  )\n",
    "\n",
    "Q(   [1 , 6.646547 ,   1.520315    ]  )\n",
    "\n",
    "Q(  [ 1, -0.300448 ,  -0.969271   ] )\n",
    "\n",
    "Q( V_normalizada[:,2]    )"
   ]
  },
  {
   "cell_type": "code",
   "execution_count": null,
   "id": "f28cb65d",
   "metadata": {},
   "outputs": [],
   "source": []
  }
 ],
 "metadata": {
  "kernelspec": {
   "display_name": "Julia 1.10.4",
   "language": "julia",
   "name": "julia-1.10"
  },
  "language_info": {
   "file_extension": ".jl",
   "mimetype": "application/julia",
   "name": "julia",
   "version": "1.10.4"
  }
 },
 "nbformat": 4,
 "nbformat_minor": 5
}
